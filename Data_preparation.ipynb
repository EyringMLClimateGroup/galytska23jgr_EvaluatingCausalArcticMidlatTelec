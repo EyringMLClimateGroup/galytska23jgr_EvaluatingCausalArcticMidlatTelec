{
 "cells": [
  {
   "cell_type": "markdown",
   "metadata": {},
   "source": [
    "## 1. Load asssociated libraries"
   ]
  },
  {
   "cell_type": "code",
   "execution_count": null,
   "metadata": {},
   "outputs": [],
   "source": [
    "#Uncomment lines below to apply causal discovery\n",
    "#Make sure that Tigramite is installed in your environment\n",
    "################### Start load tigramite ####################\n",
    "#import tigramite\n",
    "#from tigramite import data_processing as pp\n",
    "#from tigramite import plotting as tp\n",
    "#from tigramite.pcmci import PCMCI\n",
    "#from tigramite.independence_tests import ParCorr\n",
    "################### End load tigramite ####################\n",
    "from matplotlib import pyplot as plt\n",
    "import numpy as np\n",
    "import os\n",
    "from datetime import datetime as dt\n",
    "today = dt.now()\n",
    "############################Load helper functions##########################################\n",
    "from detrending import detrending\n",
    "############################End of helper functions##########################################"
   ]
  },
  {
   "cell_type": "markdown",
   "metadata": {},
   "source": [
    "## 2. Define asssociated parameters"
   ]
  },
  {
   "cell_type": "code",
   "execution_count": null,
   "metadata": {},
   "outputs": [],
   "source": [
    "#list of analysed models\n",
    "model_names = ['ACCESS-CM2', 'ACCESS-ESM1-5', 'BCC-CSM2-MR', 'CAMS-CSM1-0', 'CanESM5', 'CMCC-CM2-SR5', 'CMCC-ESM2', 'EC-Earth3',\n",
    "              'EC-Earth3-Veg',  'EC-Earth3-Veg-LR',  'GFDL-CM4', 'GFDL-ESM4',  'INM-CM4-8', 'INM-CM5-0', 'IPSL-CM6A-LR', \n",
    "              'MIROC6','MPI-ESM1-2-HR', 'MPI-ESM1-2-LR', 'MRI-ESM2-0']\n",
    "#list of used variables\n",
    "variables = ['PV', 'TAS', 'vflux', 'Sib-SLP', 'Ural-SLP','Aleut-SLP', 'NAO', 'U', 'BK-SIC', 'Ok-SIC']\n",
    "#max time lag in months\n",
    "max_timelag = 5\n",
    "#list of seasons to apply masking\n",
    "masking_list = [\"OND\", \"DJF\", \"JFM\"]\n",
    "#define one or several pc_alpha values in a list (for the sensitivity tests)\n",
    "pc_alpha_list = [0.01]#, 0.02, 0.05]"
   ]
  },
  {
   "cell_type": "markdown",
   "metadata": {},
   "source": [
    "## 3. Create output folders\n",
    "The output is sorted into the following folders: \n",
    "\n",
    "`dictionaries`  - Dictionary with the output from the application of PCMCI+; <br>\n",
    "`txt`           -  Summary of matching causal and contemporaneous links between observations and CMIP6 models saved into txt files;  <br>\n",
    "`CG`            - Causal graphs  from analysed models; <br>\n",
    "`Summary plots` - Summary of causal and contemporaneous links from analysed models."
   ]
  },
  {
   "cell_type": "code",
   "execution_count": null,
   "metadata": {},
   "outputs": [],
   "source": [
    "base_folder = \"/path/to/the/output/folder/\"\n",
    "#Below we create several folders to sort the results based on date of the run\n",
    "os.makedirs (base_folder + \"dictionaries/\" + today.strftime(\"%d%m%Y\")+ \"/\", exist_ok=True)\n",
    "os.makedirs (base_folder + \"txt/\" + today.strftime(\"%d%m%Y\")+ \"/\", exist_ok=True)\n",
    "\n",
    "for masking in masking_list:\n",
    "    for pc_element in pc_alpha_list:\n",
    "        # CG stands for Causal Graphs \n",
    "        os.makedirs (base_folder + \"CG/\" + today.strftime('%d%m%Y')+ '/' + masking + '/' + str(pc_element), exist_ok=True)\n",
    "        os.makedirs (base_folder + \"Summary_plots/\" + today.strftime('%d%m%Y')+ '/' + masking + '/' + str(pc_element), exist_ok=True)\n",
    "#################End prepare folders for the output ####################"
   ]
  },
  {
   "cell_type": "markdown",
   "metadata": {},
   "source": [
    "## 4. Load variables \n",
    "We suggest to load data from Observations and CMIP6 models into the dictionary with the following structure:"
   ]
  },
  {
   "cell_type": "code",
   "execution_count": null,
   "metadata": {},
   "outputs": [],
   "source": [
    "dictionary = {\n",
    "  \"OBS\": {\"variable1\": \"values\", \"variable2\" : \"values\", \"variableN\" : \"values\"},\n",
    "  \"Model1\": {\"variable1\": \"values\", \"variable2\" : \"values\", \"variableN\" : \"values\"},\n",
    "  \"ModelN\": {\"variable1\": \"values\", \"variable2\" : \"values\", \"varieableN\" : \"values\"},\n",
    "}"
   ]
  },
  {
   "cell_type": "markdown",
   "metadata": {},
   "source": [
    "## 5. Prepare data for Tigramite\n",
    "5.1. Detrend each variable"
   ]
  },
  {
   "cell_type": "code",
   "execution_count": null,
   "metadata": {},
   "outputs": [],
   "source": [
    "for key in dictionary.keys ():\n",
    "    for var in variables:\n",
    "        dictionary[key][var]          = detrending (dictionary[key][var])"
   ]
  },
  {
   "cell_type": "markdown",
   "metadata": {},
   "source": [
    "5.2 Construct an array from detrended data for causal discovery"
   ]
  },
  {
   "cell_type": "code",
   "execution_count": null,
   "metadata": {},
   "outputs": [],
   "source": [
    "# define below the **time** variable\n",
    "data= np.zeros(( len (dictionary.keys ()), len (time),  len (variables)))\n",
    "for i,val in enumerate (dictionary.keys ()):\n",
    "    for j, val2 in enumerate (actors):\n",
    "        data[i, :, j] =  dictionary[val][val2]\n",
    "M, T, N = data.shape\n",
    "print(\"# Models   Data Length   No of Actors\")\n",
    "print( '   ',  M, '     ' ,T, '           ', N)  "
   ]
  },
  {
   "cell_type": "markdown",
   "metadata": {},
   "source": [
    "## 6. Calculate Causal Graph for each data source. \n",
    "The routine below can be used to reproduce Fig. 3, S1, S4 of Galytska et al., 2022, JGR"
   ]
  },
  {
   "cell_type": "code",
   "execution_count": null,
   "metadata": {
    "scrolled": true
   },
   "outputs": [],
   "source": [
    "#Do you want to plot original causal graph from each data source?\n",
    "plot_Causal_Graphs = True \n",
    "#Do you want to save the dictionary with from the application of Causal Discovery?\n",
    "save_orig_dict = True \n",
    "\n",
    "# The causal graphs from different data sources will be saved into a new dictionary \n",
    "dict_networks= {}\n",
    "for masking in masking_list:\n",
    "    data_mask = np.zeros(data.shape)\n",
    "    if masking == \"OND\":\n",
    "        print ('Applying mask', masking)\n",
    "        data_masking= np.where(np.logical_and(month > 0, month < 10), 1,0) #!1 stands for data, which will be masked\n",
    "    elif masking == \"DJF\":\n",
    "        print ('Applying mask', masking)\n",
    "        data_masking= np.where(np.logical_and(month > 2, month < 12), 1,0) #!1 stands for data, which will be masked\n",
    "    elif masking == \"JFM\":\n",
    "        print ('Applying mask', masking)\n",
    "        data_masking= np.where(np.logical_and(month > 3, month < 13), 1,0) #!1 stands for data, which will be masked    \n",
    "    for m in range (0, M):\n",
    "        for n in range (0, N):\n",
    "            data_mask[m, :, n] = data_masking\n",
    "    for i,key in enumerate (dictionary.keys ()):\n",
    "        for pc_element in pc_alpha_list:\n",
    "            print (\"Calculating pc_alpha = \", pc_element)\n",
    "\n",
    "            dict_networks.setdefault(key,{})\n",
    "            dict_networks[key].setdefault (masking, {})\n",
    "            dict_networks[key][masking].setdefault (pc_element, {})\n",
    "\n",
    "            dataframe = pp.DataFrame(data[i, :, :], var_names = variables, mask = data_mask[i, :, :])\n",
    "            dataframe.mask = (dataframe.mask == True) # true vals will be masked\n",
    "            parcorr = ParCorr(significance='analytic', mask_type = 'y')\n",
    "            pcmci = PCMCI(dataframe=dataframe, cond_ind_test=parcorr, verbosity=0)\n",
    "            results = pcmci.run_pcmciplus(tau_max=max_timelag, pc_alpha=pc_element)\n",
    "            q_matrix = pcmci.get_corrected_pvalues(p_matrix=results['p_matrix'], tau_max=max_timelag, fdr_method='fdr_bh')\n",
    "            \n",
    "            dict_networks[key][masking][pc_element].setdefault ('results', results)\n",
    "            # Uncomment code below to plot causal graphs \n",
    "            \n",
    "#            if plot_Causal_Graphs: \n",
    "#                tp.plot_graph(\n",
    "#                               val_matrix=results['val_matrix'],\n",
    "#                               graph=results['graph'],\n",
    "#                               var_names=var_names,\n",
    "#                               figsize = (8,8),\n",
    "#                               node_pos = {'x': np.array([ 6.0,  6.3, 6.0, 10, 9.4, 3.8, 1.5, 3.1, 7.3, 7.9]),\n",
    "#                                           'y': np.array([ 10.0, 3.9, 7.0, 5.2, 0.8, 7.0, 0.0,5.5, 2.4, 7.2])},\n",
    "#                               node_size=0.7,       \n",
    "#                               link_colorbar_label='cross-MCI',\n",
    "#                               node_colorbar_label='auto-MCI', \n",
    "#                               node_label_size = 13,\n",
    "#                               link_label_fontsize = 13, \n",
    "#                               arrow_linewidth = 11, \n",
    "#                       save_name = base_folder + \"CG/\" + today.strftime('%d%m%Y') + '/'+ masking + '/' + str(pc_element) + '/'+ key + '_pcalpha_'+str (pc_element)+\"_\" +str(len(var_names))+'actors_'+masking+'.png'),\n",
    "#                plt.show()\n",
    "                \n",
    "            if save_orig_dict:\n",
    "                np.save(base_folder + \"dictionaries/\" + today.strftime('%d%m%Y') + '/'+ 'dict_causal_graphs_'+ str(len(var_names))+'actors.npy', dict_networks)\n"
   ]
  },
  {
   "cell_type": "code",
   "execution_count": null,
   "metadata": {},
   "outputs": [],
   "source": []
  }
 ],
 "metadata": {
  "kernelspec": {
   "display_name": "arctic-midlat",
   "language": "python",
   "name": "arctic-midlat"
  },
  "language_info": {
   "codemirror_mode": {
    "name": "ipython",
    "version": 3
   },
   "file_extension": ".py",
   "mimetype": "text/x-python",
   "name": "python",
   "nbconvert_exporter": "python",
   "pygments_lexer": "ipython3",
   "version": "3.10.6"
  }
 },
 "nbformat": 4,
 "nbformat_minor": 1
}
