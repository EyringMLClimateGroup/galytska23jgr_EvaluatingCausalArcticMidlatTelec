{
 "cells": [
  {
   "cell_type": "code",
   "execution_count": null,
   "id": "d21c3b0a",
   "metadata": {},
   "outputs": [],
   "source": [
    "# August, 2022\n",
    "# Evgenia Galytska (EG), IUP, UB. \n",
    "# Original routine is from Kevin Debeire, DLR. \n",
    "# This is the modified version of the F1-score calculations, modified for the Arctic-midlatitude research. "
   ]
  },
  {
   "cell_type": "code",
   "execution_count": null,
   "id": "548878a1",
   "metadata": {},
   "outputs": [],
   "source": [
    "import numpy as np\n",
    "import collections\n",
    "from sklearn.metrics import f1_score\n",
    "import sys\n",
    "sys.path.append('/home/evgenia/tools/Arctic-midlat/Python_scripts/functions')\n",
    "from collections import defaultdict #\n",
    "from calculations import get_metric_f1 as f1\n",
    "import pandas as pd\n",
    "import matplotlib.pyplot as plt\n",
    "import seaborn as sns\n",
    "import pickle\n",
    "#sns.set(style=\"darkgrid\")\n"
   ]
  },
  {
   "cell_type": "code",
   "execution_count": null,
   "id": "ed72c37a",
   "metadata": {},
   "outputs": [],
   "source": [
    "def function_score_list (dictionary, f1 , reference, reference_p, reference_val): \n",
    "    alpha = 0.01\n",
    "\n",
    "    ref_ds=reference\n",
    "    score_list = list ()\n",
    "    ref_p_matrix =  reference_p\n",
    "    ref_val_matrix =   reference_val \n",
    "    for d, key in enumerate (dictionary.keys ()):\n",
    "    #    print (d, key)\n",
    "        if d <= len (dictionary.keys ()):\n",
    "            if key !=ref_ds :\n",
    "                p_matrix=  dictionary[key][\"results\"]['p_matrix']\n",
    "                val_matrix= dictionary[key][\"results\"]['val_matrix']\n",
    "                precision, recall, TP, FP, FN, score, auto, count = f1(ref_p_matrix, p_matrix, ref_val_matrix, val_matrix, alpha, \n",
    "                        tau_min=0, tau_diff=5, same_sign=True)\n",
    "                score_list.append([key,score])\n",
    "    return (score_list)"
   ]
  },
  {
   "cell_type": "code",
   "execution_count": null,
   "id": "1ce687e7",
   "metadata": {},
   "outputs": [],
   "source": [
    "def put_row_first(df,row_name):\n",
    "    #put the row_name row at the first position of the df\n",
    "    df_out=df\n",
    "    df_out[\"new\"] = range(1,len(df)+1)\n",
    "    df_out.loc[row_name, 'new'] = 0\n",
    "    df_out=df_out.sort_values(\"new\").drop('new', axis=1)\n",
    "    return df_out\n",
    "def put_column_first(df,column_name):\n",
    "    #put the column_name col at the first position of the df\n",
    "    df_out=df\n",
    "    col= df_out.pop(column_name)\n",
    "    df_out.insert(0,column_name,col)\n",
    "    return df_out\n"
   ]
  },
  {
   "cell_type": "code",
   "execution_count": null,
   "id": "c3e19721",
   "metadata": {},
   "outputs": [],
   "source": [
    "#Load dictionary with data from Tigramite\n",
    "dictionary_OND = np.load(\"/home/evgenia/tools/Arctic-midlat/output/dicts_for_summary/dict_networks_historical_OND10actors_f1.npy\",allow_pickle='TRUE').item()\n",
    "#dictionary_DJF = np.load(\"/home/evgenia/tools/Arctic-midlat/output/dicts_for_summary/dict_networks_historical_DJF10actors_f1.npy\",allow_pickle='TRUE').item()\n",
    "#dictionary_JFM = np.load(\"/home/evgenia/tools/Arctic-midlat/output/dicts_for_summary/dict_networks_historical_JFM10actors_f1.npy\",allow_pickle='TRUE').item()\n",
    "\n",
    "#dictionary_scenario_OND = np.load(\"/home/evgenia/tools/Arctic-midlat/output/dicts_for_summary/dict_networks_scenario_2059-2099_OND10actors_f1.npy\",allow_pickle='TRUE').item()\n",
    "#dictionary_scenario_DJF = np.load(\"/home/evgenia/tools/Arctic-midlat/output/dicts_for_summary/dict_networks_scenario_2059-2099_DJF10actors_f1.npy\",allow_pickle='TRUE').item()\n",
    "#dictionary_scenario_JFM = np.load(\"/home/evgenia/tools/Arctic-midlat/output/dicts_for_summary/dict_networks_scenario_2059-2099_JFM10actors_f1.npy\",allow_pickle='TRUE').item()\n"
   ]
  },
  {
   "cell_type": "code",
   "execution_count": null,
   "id": "3866a0e9",
   "metadata": {},
   "outputs": [],
   "source": []
  },
  {
   "cell_type": "code",
   "execution_count": null,
   "id": "0497611c",
   "metadata": {},
   "outputs": [],
   "source": [
    "df_f1score= {}\n",
    "score_list =[]\n",
    "alpha = 0.01\n",
    "#Provide here the dictionary, which should be used (hist/scenario simulations) \n",
    "data_source = dictionary_OND\n",
    "#######\n",
    "for key1 in data_source:\n",
    "    for key2 in data_source:\n",
    "        if not (key1 == key2):\n",
    "            ref_p_matrix= data_source[key2]['results']['p_matrix']\n",
    "            p_matrix= data_source[key1]['results']['p_matrix']\n",
    "            ref_val_matrix= data_source[key2]['results']['val_matrix']\n",
    "            val_matrix= data_source[key1]['results']['val_matrix']\n",
    "            precision, recall, TP, FP, FN, score, auto, count = f1(ref_p_matrix, p_matrix, ref_val_matrix, val_matrix, alpha, \n",
    "                        tau_min=0, tau_diff=5, same_sign=True)\n",
    "            score_list.append([key1,key2,score])\n",
    "key1,key2,score = [list(a) for a in zip(*score_list)]\n",
    "df_f1score = pd.DataFrame({\"model\":key1, \"ref_model\":key2,\"F1-score\":score})\n",
    "df_globalavg= df_f1score.groupby([\"ref_model\", \"model\"],as_index=False)[\"F1-score\"].mean()\n",
    "df_globalavg_pivot= df_globalavg.pivot(index=\"model\",columns=\"ref_model\")[\"F1-score\"]\n",
    "df_globalavg_pivot= put_row_first(df_globalavg_pivot,\"OBS\")\n",
    "df_globalavg_pivot= put_column_first(df_globalavg_pivot,\"OBS\")"
   ]
  },
  {
   "cell_type": "code",
   "execution_count": null,
   "id": "9a24bdce",
   "metadata": {},
   "outputs": [],
   "source": []
  },
  {
   "cell_type": "code",
   "execution_count": null,
   "id": "73f26885",
   "metadata": {},
   "outputs": [],
   "source": [
    "fs = 17\n",
    "cmap = plt.cm.get_cmap('hot_r')\n",
    "fig = plt.figure(figsize=(12,9))\n",
    "g = sns.heatmap(df_globalavg_pivot, cmap=cmap, annot=False, vmin = 0.3, vmax = 0.8, cbar=True)\n",
    "g.xaxis.set_ticks_position(\"top\")\n",
    "g.collections[0].colorbar.set_label(\"F1-score\",fontsize=fs)\n",
    "\n",
    "#g.set_title('Heatmap of pairwise causal network comparison for OND',fontsize=15,weight=\"bold\")\n",
    "g.set_xlabel('Reference model',fontsize=fs)\n",
    "g.set_ylabel('Model',fontsize=fs)\n",
    "g.set_xticklabels(g.get_xticklabels(), rotation=\"60\",verticalalignment= 'baseline',horizontalalignment= \"left\", fontsize = fs)\n",
    "g.set_yticklabels(g.get_yticklabels(), fontsize = fs)\n",
    "#plt.savefig ('/home/evgenia/tools/Arctic-midlat/output/f1score/historical_1979-2019_OND_heatmap.png', dpi =120, bbox_inches = 'tight')"
   ]
  },
  {
   "cell_type": "code",
   "execution_count": null,
   "id": "5c940b6d",
   "metadata": {},
   "outputs": [],
   "source": []
  },
  {
   "cell_type": "code",
   "execution_count": null,
   "id": "af536938",
   "metadata": {},
   "outputs": [],
   "source": []
  }
 ],
 "metadata": {
  "kernelspec": {
   "display_name": "base",
   "language": "python",
   "name": "base"
  },
  "language_info": {
   "codemirror_mode": {
    "name": "ipython",
    "version": 3
   },
   "file_extension": ".py",
   "mimetype": "text/x-python",
   "name": "python",
   "nbconvert_exporter": "python",
   "pygments_lexer": "ipython3",
   "version": "3.9.13"
  }
 },
 "nbformat": 4,
 "nbformat_minor": 5
}
